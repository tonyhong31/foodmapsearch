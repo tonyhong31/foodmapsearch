{
 "cells": [
  {
   "cell_type": "code",
   "execution_count": 1,
   "id": "2fbcff78",
   "metadata": {},
   "outputs": [],
   "source": [
    "from selenium import webdriver as wd\n",
    "from selenium.webdriver.common.by import By\n",
    "import time"
   ]
  },
  {
   "cell_type": "code",
   "execution_count": 2,
   "id": "47d59b10",
   "metadata": {},
   "outputs": [
    {
     "name": "stderr",
     "output_type": "stream",
     "text": [
      "C:\\Users\\tonyh\\AppData\\Local\\Temp\\ipykernel_25820\\3855641442.py:1: DeprecationWarning: executable_path has been deprecated, please pass in a Service object\n",
      "  driver = wd.Chrome(executable_path=\"chromedriver_win32/chromedriver.exe\")\n"
     ]
    }
   ],
   "source": [
    "driver = wd.Chrome(executable_path=\"chromedriver_win32/chromedriver.exe\")\n",
    "url = \"https://map.naver.com/\" \n",
    "driver.get(url)\n",
    "\n",
    "driver.implicitly_wait(20)"
   ]
  },
  {
   "cell_type": "code",
   "execution_count": 3,
   "id": "bdbd9e72",
   "metadata": {},
   "outputs": [],
   "source": [
    "# srch: search on map\n",
    "# menu1: review search 1\n",
    "# menu2: review search 2\n",
    "# sut: how many times are you going to press the 'view more' button\n",
    "\n",
    "srch = '꿔봐로우' \n",
    "menu1 = '가지튀김'\n",
    "menu2 = '가지 튀김'\n",
    "sut = 3"
   ]
  },
  {
   "cell_type": "code",
   "execution_count": 4,
   "id": "572de345",
   "metadata": {},
   "outputs": [],
   "source": [
    "#type srch and press enter\n",
    "driver.find_element(By.CLASS_NAME, \"input_search\").send_keys(srch)\n",
    "time.sleep(1)\n",
    "driver.find_element(By.CLASS_NAME, \"input_search\").send_keys(\"\\n\")"
   ]
  },
  {
   "cell_type": "code",
   "execution_count": 7,
   "id": "ed296db2",
   "metadata": {
    "scrolled": true
   },
   "outputs": [
    {
     "name": "stdout",
     "output_type": "stream",
     "text": [
      "Restaurant:  애정마라샹궈\n",
      "와 마라탕이랑 마라샹궈 우선 넘 맛나는데요!! 가지 튀김 꼭 드세요!!! 2번 3번 4번 드세요!!!!! 진짜 마라먹 고싶어서 방문했는데 가지튀김에 치이고 갑니...\n",
      "짜요짜요ᆢ가지튀김은 맛있게 먹었어요~^^\n",
      "덜짜게 해달랬는데 그래도 짜~~\n",
      "Restaurant:  상관양꼬치\n",
      "가지튀김 너무 맛있고 양꼬치도 맛있어요~~\n",
      "자주 방문했는데 리뷰는 첨 남기네용 항상 꿔바로우\n",
      "시켜먹는데 여긴 무조건 가지튀김 시켜요 메뉴에 시\n",
      "그니쳐라고 표시해도 될것 같아요 ^~^잘 먹고...\n",
      "Restaurant:  마라공방 성신여대점\n",
      "Restaurant:  마라삼국지\n",
      "Restaurant:  마라탕전문점 샹츠마라 성북구점\n",
      "없음\n"
     ]
    }
   ],
   "source": [
    "#view reviews \n",
    "driver.switch_to.default_content()\n",
    "driver.switch_to.frame(\"searchIframe\")\n",
    "lst_store = driver.find_elements(By.CLASS_NAME, \"place_bluelink\")\n",
    "for i in lst_store :\n",
    "    print (\"Restaurant: \", i.text)\n",
    "    i.click()\n",
    "    time.sleep(2)\n",
    "    driver.switch_to.default_content()\n",
    "    driver.switch_to.frame(\"entryIframe\")\n",
    "    lst_menu = driver.find_elements(By.CLASS_NAME, \"veBoZ\")\n",
    "    for j in lst_menu :\n",
    "        if j.text == \"리뷰\" :\n",
    "#             print (j.text)\n",
    "            j.click()\n",
    "            lst = driver.find_elements(By.CLASS_NAME, \"zPfVt\") \n",
    "            lst_text = []\n",
    "            # list.append(text)\n",
    "            cnt = 0 \n",
    "            cnt_while = 1\n",
    "            while cnt <= 10:\n",
    "                for k in lst:\n",
    "                    if ((menu1 in k.text) or (menu2 in k.text)) and not (k.text in lst_text) :\n",
    "                        print(k.text)\n",
    "                        cnt = cnt + 1 \n",
    "                        lst_text.append(k.text)\n",
    "                if cnt_while == sut :\n",
    "                    break\n",
    "\n",
    "                time.sleep(0.1)\n",
    "                try:\n",
    "                    driver.find_element(By.CLASS_NAME, \"fvwqf\").click()\n",
    "                    lst = driver.find_elements(By.CLASS_NAME, \"zPfVt\")\n",
    "#                     print(cnt_while)\n",
    "                    cnt_while = cnt_while + 1\n",
    "                except:\n",
    "                    print (\"없음\")\n",
    "                    break\n",
    "\n",
    "#             print('cnt: ',cnt)\n",
    "    driver.switch_to.default_content()\n",
    "    driver.switch_to.frame(\"searchIframe\")"
   ]
  },
  {
   "cell_type": "code",
   "execution_count": null,
   "id": "d743997d",
   "metadata": {},
   "outputs": [],
   "source": []
  }
 ],
 "metadata": {
  "kernelspec": {
   "display_name": "Python 3 (ipykernel)",
   "language": "python",
   "name": "python3"
  },
  "language_info": {
   "codemirror_mode": {
    "name": "ipython",
    "version": 3
   },
   "file_extension": ".py",
   "mimetype": "text/x-python",
   "name": "python",
   "nbconvert_exporter": "python",
   "pygments_lexer": "ipython3",
   "version": "3.10.8"
  }
 },
 "nbformat": 4,
 "nbformat_minor": 5
}
